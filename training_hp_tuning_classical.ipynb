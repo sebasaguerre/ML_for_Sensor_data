{
 "cells": [
  {
   "cell_type": "code",
   "execution_count": 45,
   "id": "ccb9a138",
   "metadata": {},
   "outputs": [],
   "source": [
    "# imports\n",
    "import pandas as pd\n",
    "from sklearn.preprocessing import StandardScaler\n",
    "import lightgbm as lgb\n",
    "from sklearn.compose import ColumnTransformer\n",
    "from sklearn.pipeline import Pipeline\n",
    "from sklearn.metrics import classification_report\n",
    "from sklearn.preprocessing import OneHotEncoder\n",
    "from sklearn.preprocessing import LabelEncoder\n",
    "from sklearn.svm import SVC\n",
    "from sklearn.pipeline import Pipeline\n",
    "from sklearn.metrics import classification_report\n",
    "from sklearn.svm import LinearSVC\n",
    "from skopt import gp_minimize\n",
    "from skopt.space import Real, Integer, Categorical\n",
    "from skopt.utils import use_named_args\n",
    "from sklearn.model_selection import cross_val_score\n",
    "from sklearn.metrics import f1_score\n"
   ]
  },
  {
   "cell_type": "markdown",
   "id": "ecad58f9",
   "metadata": {},
   "source": [
    "## Data loading and setting up"
   ]
  },
  {
   "cell_type": "code",
   "execution_count": 46,
   "id": "bb8ac2bd",
   "metadata": {},
   "outputs": [],
   "source": [
    "df = pd.read_csv(\"final_train_data.csv\")\n",
    "df = df.astype({col: 'category' for col in df.select_dtypes(include='object').columns})"
   ]
  },
  {
   "cell_type": "code",
   "execution_count": 47,
   "id": "080b8b5a",
   "metadata": {},
   "outputs": [
    {
     "data": {
      "text/plain": [
       "Distance (cm)                     float64\n",
       "Illuminance (lx)                  float64\n",
       "amplitude                         float64\n",
       "frequency                         float64\n",
       "Magnetic field x (µT)             float64\n",
       "Magnetic field y (µT)             float64\n",
       "Magnetic field z (µT)             float64\n",
       "Acceleration x (m/s^2)            float64\n",
       "Acceleration y (m/s^2)            float64\n",
       "Acceleration z (m/s^2)            float64\n",
       "Gyroscope x (rad/s)               float64\n",
       "Gyroscope y (rad/s)               float64\n",
       "Gyroscope z (rad/s)               float64\n",
       "Pressure (hPa)                    float64\n",
       "Linear Acceleration x (m/s^2)     float64\n",
       "Linear Acceleration y (m/s^2)     float64\n",
       "Linear Acceleration z (m/s^2)     float64\n",
       "Common time (s)                   float64\n",
       "Activity                         category\n",
       "Mood                                int64\n",
       "Arousal                             int64\n",
       "Social engagement                   int64\n",
       "Noise Level                         int64\n",
       "Concentration Level                 int64\n",
       "dtype: object"
      ]
     },
     "execution_count": 47,
     "metadata": {},
     "output_type": "execute_result"
    }
   ],
   "source": [
    "df.dtypes"
   ]
  },
  {
   "cell_type": "code",
   "execution_count": 48,
   "id": "f714b43f",
   "metadata": {},
   "outputs": [],
   "source": [
    "y = df[\"Activity\"]\n",
    "X = df.drop([\"Activity\"],axis=1)\n",
    "le = LabelEncoder()\n",
    "y = le.fit_transform(y)\n",
    "\n"
   ]
  },
  {
   "cell_type": "code",
   "execution_count": 49,
   "id": "b4e42cfb",
   "metadata": {},
   "outputs": [],
   "source": [
    "val_df = pd.read_csv(\"val_data.csv.gz\")\n",
    "val_df = val_df.astype({col: 'category' for col in val_df.select_dtypes(include='object').columns})\n",
    "y_val = val_df[\"Activity\"]\n",
    "X_val = val_df.drop([\"Activity\"],axis=1)\n",
    "y_val = le.transform(val_df[\"Activity\"])\n",
    "\n"
   ]
  },
  {
   "cell_type": "code",
   "execution_count": 50,
   "id": "0e8ee96e",
   "metadata": {},
   "outputs": [],
   "source": [
    "test_df = pd.read_csv(\"test_data.csv.gz\")\n",
    "test_df = test_df.astype({col: 'category' for col in test_df.select_dtypes(include='object').columns})\n",
    "y_test = test_df[\"Activity\"]\n",
    "X_test = test_df.drop([\"Activity\"],axis=1)\n",
    "y_test = le.transform(test_df[\"Activity\"])\n"
   ]
  },
  {
   "cell_type": "code",
   "execution_count": 51,
   "id": "1c5fa51c",
   "metadata": {},
   "outputs": [],
   "source": [
    "\n",
    "num_features  = X.select_dtypes(include =\"number\").columns\n",
    "cat_features = X.select_dtypes(include = \"category\").columns\n",
    "prep = ColumnTransformer([(\"num\",StandardScaler(),num_features), (\"cat\",OneHotEncoder(handle_unknown=\"ignore\"),cat_features)])\n"
   ]
  },
  {
   "cell_type": "markdown",
   "id": "15634fe6",
   "metadata": {},
   "source": [
    "## Hyperparameter tuning"
   ]
  },
  {
   "cell_type": "markdown",
   "id": "0012fa9a",
   "metadata": {},
   "source": [
    "#### Create spaces"
   ]
  },
  {
   "cell_type": "code",
   "execution_count": 52,
   "id": "12afe617",
   "metadata": {},
   "outputs": [],
   "source": [
    "#lightgbm\n",
    "space_lgbm = [Real(0.01,0.1,name = \"learning_rate\"),\n",
    "         Integer(31,128, name = \"num_leaves\"),\n",
    "         Integer(20,100,name = \"min_child_samples\"),\n",
    "         Real(0.6,1.0,name = \"feature_fraction\"),\n",
    "         Integer(500,2000,name = \"n_estimators\"),\n",
    "         Real(0.6,1.0,name = \"subsample\"),\n",
    "         Real(0.6,1.0, name = \"colsample_bytree\"),\n",
    "         Real(0.0,10.0,name = \"lambda_l1\"),\n",
    "         Real(0.0,10.0,name = \"lambda_l2\"),\n",
    "         Real(0.0,1.0,name = \"min_split_gain\")]\n",
    "\n",
    "space_svc = [\n",
    "    Real(1e-6, 100.0, prior='log-uniform', name='C'),               \n",
    "    Real(1e-6, 10.0, prior='log-uniform', name='gamma'),            \n",
    "    Categorical(['linear', 'rbf', 'poly', 'sigmoid'], name='kernel'),  \n",
    "    Integer(2, 5, name='degree'),                                   \n",
    "    Real(0.0, 1.0, name='coef0')]"
   ]
  },
  {
   "cell_type": "code",
   "execution_count": 53,
   "id": "0efcedbf",
   "metadata": {},
   "outputs": [
    {
     "name": "stdout",
     "output_type": "stream",
     "text": [
      "[LightGBM] [Info] Auto-choosing row-wise multi-threading, the overhead of testing was 0.007102 seconds.\n",
      "You can set `force_row_wise=true` to remove the overhead.\n",
      "And if memory is not enough, you can set `force_col_wise=true`.\n",
      "[LightGBM] [Info] Total Bins 4609\n",
      "[LightGBM] [Info] Number of data points in the train set: 416297, number of used features: 23\n",
      "[LightGBM] [Info] Start training from score -1.924220\n",
      "[LightGBM] [Info] Start training from score -1.931188\n",
      "[LightGBM] [Info] Start training from score -1.764138\n",
      "[LightGBM] [Info] Start training from score -1.829352\n",
      "[LightGBM] [Info] Start training from score -1.742763\n",
      "[LightGBM] [Info] Start training from score -1.598762\n"
     ]
    },
    {
     "name": "stderr",
     "output_type": "stream",
     "text": [
      "/Users/christophlaute/Data Mining Project/Data-Mining-Project-1/.conda/lib/python3.12/site-packages/sklearn/utils/validation.py:2739: UserWarning: X does not have valid feature names, but LGBMClassifier was fitted with feature names\n",
      "  warnings.warn(\n"
     ]
    },
    {
     "name": "stdout",
     "output_type": "stream",
     "text": [
      "[LightGBM] [Info] Auto-choosing row-wise multi-threading, the overhead of testing was 0.006200 seconds.\n",
      "You can set `force_row_wise=true` to remove the overhead.\n",
      "And if memory is not enough, you can set `force_col_wise=true`.\n",
      "[LightGBM] [Info] Total Bins 4609\n",
      "[LightGBM] [Info] Number of data points in the train set: 416297, number of used features: 23\n",
      "[LightGBM] [Info] Start training from score -1.924220\n",
      "[LightGBM] [Info] Start training from score -1.931188\n",
      "[LightGBM] [Info] Start training from score -1.764138\n",
      "[LightGBM] [Info] Start training from score -1.829352\n",
      "[LightGBM] [Info] Start training from score -1.742763\n",
      "[LightGBM] [Info] Start training from score -1.598762\n"
     ]
    },
    {
     "name": "stderr",
     "output_type": "stream",
     "text": [
      "/Users/christophlaute/Data Mining Project/Data-Mining-Project-1/.conda/lib/python3.12/site-packages/sklearn/utils/validation.py:2739: UserWarning: X does not have valid feature names, but LGBMClassifier was fitted with feature names\n",
      "  warnings.warn(\n"
     ]
    },
    {
     "name": "stdout",
     "output_type": "stream",
     "text": [
      "[LightGBM] [Info] Auto-choosing row-wise multi-threading, the overhead of testing was 0.006010 seconds.\n",
      "You can set `force_row_wise=true` to remove the overhead.\n",
      "And if memory is not enough, you can set `force_col_wise=true`.\n",
      "[LightGBM] [Info] Total Bins 4609\n",
      "[LightGBM] [Info] Number of data points in the train set: 416297, number of used features: 23\n",
      "[LightGBM] [Info] Start training from score -1.924220\n",
      "[LightGBM] [Info] Start training from score -1.931188\n",
      "[LightGBM] [Info] Start training from score -1.764138\n",
      "[LightGBM] [Info] Start training from score -1.829352\n",
      "[LightGBM] [Info] Start training from score -1.742763\n",
      "[LightGBM] [Info] Start training from score -1.598762\n"
     ]
    },
    {
     "name": "stderr",
     "output_type": "stream",
     "text": [
      "/Users/christophlaute/Data Mining Project/Data-Mining-Project-1/.conda/lib/python3.12/site-packages/sklearn/utils/validation.py:2739: UserWarning: X does not have valid feature names, but LGBMClassifier was fitted with feature names\n",
      "  warnings.warn(\n"
     ]
    },
    {
     "name": "stdout",
     "output_type": "stream",
     "text": [
      "[LightGBM] [Info] Auto-choosing row-wise multi-threading, the overhead of testing was 0.006681 seconds.\n",
      "You can set `force_row_wise=true` to remove the overhead.\n",
      "And if memory is not enough, you can set `force_col_wise=true`.\n",
      "[LightGBM] [Info] Total Bins 4609\n",
      "[LightGBM] [Info] Number of data points in the train set: 416297, number of used features: 23\n",
      "[LightGBM] [Info] Start training from score -1.924220\n",
      "[LightGBM] [Info] Start training from score -1.931188\n",
      "[LightGBM] [Info] Start training from score -1.764138\n",
      "[LightGBM] [Info] Start training from score -1.829352\n",
      "[LightGBM] [Info] Start training from score -1.742763\n",
      "[LightGBM] [Info] Start training from score -1.598762\n"
     ]
    },
    {
     "name": "stderr",
     "output_type": "stream",
     "text": [
      "/Users/christophlaute/Data Mining Project/Data-Mining-Project-1/.conda/lib/python3.12/site-packages/sklearn/utils/validation.py:2739: UserWarning: X does not have valid feature names, but LGBMClassifier was fitted with feature names\n",
      "  warnings.warn(\n"
     ]
    },
    {
     "name": "stdout",
     "output_type": "stream",
     "text": [
      "[LightGBM] [Info] Auto-choosing row-wise multi-threading, the overhead of testing was 0.006447 seconds.\n",
      "You can set `force_row_wise=true` to remove the overhead.\n",
      "And if memory is not enough, you can set `force_col_wise=true`.\n",
      "[LightGBM] [Info] Total Bins 4609\n",
      "[LightGBM] [Info] Number of data points in the train set: 416297, number of used features: 23\n",
      "[LightGBM] [Info] Start training from score -1.924220\n",
      "[LightGBM] [Info] Start training from score -1.931188\n",
      "[LightGBM] [Info] Start training from score -1.764138\n",
      "[LightGBM] [Info] Start training from score -1.829352\n",
      "[LightGBM] [Info] Start training from score -1.742763\n",
      "[LightGBM] [Info] Start training from score -1.598762\n"
     ]
    },
    {
     "name": "stderr",
     "output_type": "stream",
     "text": [
      "/Users/christophlaute/Data Mining Project/Data-Mining-Project-1/.conda/lib/python3.12/site-packages/sklearn/utils/validation.py:2739: UserWarning: X does not have valid feature names, but LGBMClassifier was fitted with feature names\n",
      "  warnings.warn(\n"
     ]
    },
    {
     "name": "stdout",
     "output_type": "stream",
     "text": [
      "[LightGBM] [Info] Auto-choosing row-wise multi-threading, the overhead of testing was 0.007812 seconds.\n",
      "You can set `force_row_wise=true` to remove the overhead.\n",
      "And if memory is not enough, you can set `force_col_wise=true`.\n",
      "[LightGBM] [Info] Total Bins 4609\n",
      "[LightGBM] [Info] Number of data points in the train set: 416297, number of used features: 23\n",
      "[LightGBM] [Info] Start training from score -1.924220\n",
      "[LightGBM] [Info] Start training from score -1.931188\n",
      "[LightGBM] [Info] Start training from score -1.764138\n",
      "[LightGBM] [Info] Start training from score -1.829352\n",
      "[LightGBM] [Info] Start training from score -1.742763\n",
      "[LightGBM] [Info] Start training from score -1.598762\n"
     ]
    },
    {
     "name": "stderr",
     "output_type": "stream",
     "text": [
      "/Users/christophlaute/Data Mining Project/Data-Mining-Project-1/.conda/lib/python3.12/site-packages/sklearn/utils/validation.py:2739: UserWarning: X does not have valid feature names, but LGBMClassifier was fitted with feature names\n",
      "  warnings.warn(\n"
     ]
    },
    {
     "name": "stdout",
     "output_type": "stream",
     "text": [
      "[LightGBM] [Info] Auto-choosing row-wise multi-threading, the overhead of testing was 0.006582 seconds.\n",
      "You can set `force_row_wise=true` to remove the overhead.\n",
      "And if memory is not enough, you can set `force_col_wise=true`.\n",
      "[LightGBM] [Info] Total Bins 4609\n",
      "[LightGBM] [Info] Number of data points in the train set: 416297, number of used features: 23\n",
      "[LightGBM] [Info] Start training from score -1.924220\n",
      "[LightGBM] [Info] Start training from score -1.931188\n",
      "[LightGBM] [Info] Start training from score -1.764138\n",
      "[LightGBM] [Info] Start training from score -1.829352\n",
      "[LightGBM] [Info] Start training from score -1.742763\n",
      "[LightGBM] [Info] Start training from score -1.598762\n"
     ]
    },
    {
     "name": "stderr",
     "output_type": "stream",
     "text": [
      "/Users/christophlaute/Data Mining Project/Data-Mining-Project-1/.conda/lib/python3.12/site-packages/sklearn/utils/validation.py:2739: UserWarning: X does not have valid feature names, but LGBMClassifier was fitted with feature names\n",
      "  warnings.warn(\n"
     ]
    },
    {
     "name": "stdout",
     "output_type": "stream",
     "text": [
      "[LightGBM] [Info] Auto-choosing row-wise multi-threading, the overhead of testing was 0.007293 seconds.\n",
      "You can set `force_row_wise=true` to remove the overhead.\n",
      "And if memory is not enough, you can set `force_col_wise=true`.\n",
      "[LightGBM] [Info] Total Bins 4609\n",
      "[LightGBM] [Info] Number of data points in the train set: 416297, number of used features: 23\n",
      "[LightGBM] [Info] Start training from score -1.924220\n",
      "[LightGBM] [Info] Start training from score -1.931188\n",
      "[LightGBM] [Info] Start training from score -1.764138\n",
      "[LightGBM] [Info] Start training from score -1.829352\n",
      "[LightGBM] [Info] Start training from score -1.742763\n",
      "[LightGBM] [Info] Start training from score -1.598762\n"
     ]
    },
    {
     "name": "stderr",
     "output_type": "stream",
     "text": [
      "/Users/christophlaute/Data Mining Project/Data-Mining-Project-1/.conda/lib/python3.12/site-packages/sklearn/utils/validation.py:2739: UserWarning: X does not have valid feature names, but LGBMClassifier was fitted with feature names\n",
      "  warnings.warn(\n"
     ]
    },
    {
     "name": "stdout",
     "output_type": "stream",
     "text": [
      "[LightGBM] [Info] Auto-choosing row-wise multi-threading, the overhead of testing was 0.006518 seconds.\n",
      "You can set `force_row_wise=true` to remove the overhead.\n",
      "And if memory is not enough, you can set `force_col_wise=true`.\n",
      "[LightGBM] [Info] Total Bins 4609\n",
      "[LightGBM] [Info] Number of data points in the train set: 416297, number of used features: 23\n",
      "[LightGBM] [Info] Start training from score -1.924220\n",
      "[LightGBM] [Info] Start training from score -1.931188\n",
      "[LightGBM] [Info] Start training from score -1.764138\n",
      "[LightGBM] [Info] Start training from score -1.829352\n",
      "[LightGBM] [Info] Start training from score -1.742763\n",
      "[LightGBM] [Info] Start training from score -1.598762\n"
     ]
    },
    {
     "name": "stderr",
     "output_type": "stream",
     "text": [
      "/Users/christophlaute/Data Mining Project/Data-Mining-Project-1/.conda/lib/python3.12/site-packages/sklearn/utils/validation.py:2739: UserWarning: X does not have valid feature names, but LGBMClassifier was fitted with feature names\n",
      "  warnings.warn(\n"
     ]
    },
    {
     "name": "stdout",
     "output_type": "stream",
     "text": [
      "[LightGBM] [Info] Auto-choosing row-wise multi-threading, the overhead of testing was 0.007173 seconds.\n",
      "You can set `force_row_wise=true` to remove the overhead.\n",
      "And if memory is not enough, you can set `force_col_wise=true`.\n",
      "[LightGBM] [Info] Total Bins 4609\n",
      "[LightGBM] [Info] Number of data points in the train set: 416297, number of used features: 23\n",
      "[LightGBM] [Info] Start training from score -1.924220\n",
      "[LightGBM] [Info] Start training from score -1.931188\n",
      "[LightGBM] [Info] Start training from score -1.764138\n",
      "[LightGBM] [Info] Start training from score -1.829352\n",
      "[LightGBM] [Info] Start training from score -1.742763\n",
      "[LightGBM] [Info] Start training from score -1.598762\n"
     ]
    },
    {
     "name": "stderr",
     "output_type": "stream",
     "text": [
      "/Users/christophlaute/Data Mining Project/Data-Mining-Project-1/.conda/lib/python3.12/site-packages/sklearn/utils/validation.py:2739: UserWarning: X does not have valid feature names, but LGBMClassifier was fitted with feature names\n",
      "  warnings.warn(\n"
     ]
    }
   ],
   "source": [
    "##lgbm\n",
    "@use_named_args(space_lgbm)\n",
    "def objective_lgbm(**params):\n",
    "    lgbm_pipe = Pipeline([(\"preproc\",prep),(\"clf\",lgb.LGBMClassifier(objective='multiclass', num_class=6,random_state=30,n_jobs=-1))])\n",
    "    lgbm_pipe.fit(X,y)\n",
    "    y_pred =lgbm_pipe.predict(X_val)\n",
    "    f1 = f1_score(y_pred,y_val,average=\"macro\")\n",
    "    return -f1\n",
    "best = gp_minimize(func = objective_lgbm,dimensions = space_lgbm,n_calls = 10,n_random_starts = 10,random_state = 30)\n",
    "\n"
   ]
  },
  {
   "cell_type": "code",
   "execution_count": 54,
   "id": "3191a4e9",
   "metadata": {},
   "outputs": [
    {
     "name": "stdout",
     "output_type": "stream",
     "text": [
      "learning_rate:0.09252801838716393\n",
      "num_leaves:52\n",
      "min_child_samples:53\n",
      "feature_fraction:0.8572247414666647\n",
      "n_estimators:1560\n",
      "subsample:0.840028327678892\n",
      "colsample_bytree:0.9709574140163002\n",
      "lambda_l1:6.966509490139357\n",
      "lambda_l2:0.23598830451742497\n",
      "min_split_gain:0.44022355330164975\n",
      "The best score was 0.16207154728119066\n"
     ]
    }
   ],
   "source": [
    "for element, param in zip(best.x, space_lgbm):\n",
    "    print(f\"{param.name}:{element}\")\n",
    "print(f\"The best score was {-best.fun}\")"
   ]
  },
  {
   "cell_type": "code",
   "execution_count": 58,
   "id": "88548ec5",
   "metadata": {},
   "outputs": [],
   "source": [
    "#svc\n",
    "##lgbm\n",
    "@use_named_args(space_svc)\n",
    "def objective_svc(**params):\n",
    "    svc_pipe = Pipeline([\n",
    "    (\"preproc\", prep),\n",
    "    (\"clf\", LinearSVC())\n",
    "])\n",
    "    svc_pipe.fit(X,y)\n",
    "    y_pred =svc_pipe.predict(X_val)\n",
    "    f1 = f1_score(y_pred,y_val,average=\"macro\")\n",
    "    return -f1\n",
    "best = gp_minimize(func = objective_svc,dimensions = space_svc,n_calls = 10,n_random_starts = 10,random_state = 30)\n",
    "\n"
   ]
  },
  {
   "cell_type": "code",
   "execution_count": 59,
   "id": "9bb78f5b",
   "metadata": {},
   "outputs": [
    {
     "name": "stdout",
     "output_type": "stream",
     "text": [
      "C:21.668250946405884\n",
      "gamma:3.371307154029529e-05\n",
      "kernel:rbf\n",
      "degree:4\n",
      "coef0:0.706414396663471\n",
      "The best score was 0.07318027002078133\n"
     ]
    }
   ],
   "source": [
    "for element, param in zip(best.x, space_svc):\n",
    "    print(f\"{param.name}:{element}\")\n",
    "print(f\"The best score was {-best.fun}\")"
   ]
  },
  {
   "cell_type": "markdown",
   "id": "3e1eabf8",
   "metadata": {},
   "source": [
    "## Training"
   ]
  },
  {
   "cell_type": "markdown",
   "id": "f57c8833",
   "metadata": {},
   "source": [
    "#### LightGBM"
   ]
  },
  {
   "cell_type": "code",
   "execution_count": null,
   "id": "9d165549",
   "metadata": {},
   "outputs": [
    {
     "name": "stdout",
     "output_type": "stream",
     "text": [
      "[LightGBM] [Info] Auto-choosing row-wise multi-threading, the overhead of testing was 0.006919 seconds.\n",
      "You can set `force_row_wise=true` to remove the overhead.\n",
      "And if memory is not enough, you can set `force_col_wise=true`.\n",
      "[LightGBM] [Info] Total Bins 4609\n",
      "[LightGBM] [Info] Number of data points in the train set: 416297, number of used features: 23\n",
      "[LightGBM] [Info] Start training from score -1.924220\n",
      "[LightGBM] [Info] Start training from score -1.931188\n",
      "[LightGBM] [Info] Start training from score -1.764138\n",
      "[LightGBM] [Info] Start training from score -1.829352\n",
      "[LightGBM] [Info] Start training from score -1.742763\n",
      "[LightGBM] [Info] Start training from score -1.598762\n"
     ]
    },
    {
     "name": "stderr",
     "output_type": "stream",
     "text": [
      "/Users/christophlaute/Data Mining Project/Data-Mining-Project-1/.conda/lib/python3.12/site-packages/sklearn/utils/validation.py:2739: UserWarning: X does not have valid feature names, but LGBMClassifier was fitted with feature names\n",
      "  warnings.warn(\n"
     ]
    },
    {
     "name": "stdout",
     "output_type": "stream",
     "text": [
      "              precision    recall  f1-score   support\n",
      "\n",
      "           0       0.00      0.00      0.00     31092\n",
      "           1       0.31      0.87      0.46     18922\n",
      "           2       0.00      0.00      0.00     34191\n",
      "           3       0.00      0.00      0.00     35422\n",
      "           4       0.15      0.31      0.20     26557\n",
      "           5       0.18      0.19      0.18     40283\n",
      "\n",
      "    accuracy                           0.17    186467\n",
      "   macro avg       0.11      0.23      0.14    186467\n",
      "weighted avg       0.09      0.17      0.11    186467\n",
      "\n"
     ]
    },
    {
     "name": "stderr",
     "output_type": "stream",
     "text": [
      "/Users/christophlaute/Data Mining Project/Data-Mining-Project-1/.conda/lib/python3.12/site-packages/sklearn/metrics/_classification.py:1565: UndefinedMetricWarning: Precision is ill-defined and being set to 0.0 in labels with no predicted samples. Use `zero_division` parameter to control this behavior.\n",
      "  _warn_prf(average, modifier, f\"{metric.capitalize()} is\", len(result))\n",
      "/Users/christophlaute/Data Mining Project/Data-Mining-Project-1/.conda/lib/python3.12/site-packages/sklearn/metrics/_classification.py:1565: UndefinedMetricWarning: Precision is ill-defined and being set to 0.0 in labels with no predicted samples. Use `zero_division` parameter to control this behavior.\n",
      "  _warn_prf(average, modifier, f\"{metric.capitalize()} is\", len(result))\n",
      "/Users/christophlaute/Data Mining Project/Data-Mining-Project-1/.conda/lib/python3.12/site-packages/sklearn/metrics/_classification.py:1565: UndefinedMetricWarning: Precision is ill-defined and being set to 0.0 in labels with no predicted samples. Use `zero_division` parameter to control this behavior.\n",
      "  _warn_prf(average, modifier, f\"{metric.capitalize()} is\", len(result))\n"
     ]
    }
   ],
   "source": [
    "pipe = Pipeline([(\"preproc\",prep),(\"clf\",lgb.LGBMClassifier(objective='multiclass', num_class=6,random_state=30))])\n",
    "pipe.fit(X,y)\n",
    "y_pred =pipe.predict(X_test)     \n",
    "print(classification_report(y_test,y_pred)) "
   ]
  },
  {
   "cell_type": "code",
   "execution_count": null,
   "id": "207f10ff",
   "metadata": {},
   "outputs": [
    {
     "name": "stdout",
     "output_type": "stream",
     "text": [
      "Train classes: ['rest', 'walk', 'phone', 'stairs', 'socialize', 'study']\n",
      "Categories (6, object): ['phone', 'rest', 'socialize', 'stairs', 'study', 'walk']\n",
      "Val classes: ['socialize', 'walk', 'stairs', 'phone', 'rest', 'study']\n",
      "Categories (6, object): ['phone', 'rest', 'socialize', 'stairs', 'study', 'walk']\n"
     ]
    }
   ],
   "source": [
    "print(\"Train classes:\", df[\"Activity\"].unique())\n",
    "print(\"Val classes:\", val_df[\"Activity\"].unique())\n",
    "\n"
   ]
  },
  {
   "cell_type": "markdown",
   "id": "b874f3dc",
   "metadata": {},
   "source": [
    "#### SVM"
   ]
  },
  {
   "cell_type": "code",
   "execution_count": null,
   "id": "bac24275",
   "metadata": {},
   "outputs": [
    {
     "name": "stdout",
     "output_type": "stream",
     "text": [
      "              precision    recall  f1-score   support\n",
      "\n",
      "           0       0.00      0.00      0.00     31092\n",
      "           1       0.00      0.00      0.00     18922\n",
      "           2       0.00      0.00      0.00     34191\n",
      "           3       0.22      1.00      0.36     35422\n",
      "           4       0.00      0.00      0.00     26557\n",
      "           5       1.00      0.00      0.00     40283\n",
      "\n",
      "    accuracy                           0.19    186467\n",
      "   macro avg       0.20      0.17      0.06    186467\n",
      "weighted avg       0.26      0.19      0.07    186467\n",
      "\n"
     ]
    },
    {
     "name": "stderr",
     "output_type": "stream",
     "text": [
      "/Users/christophlaute/Data Mining Project/Data-Mining-Project-1/.conda/lib/python3.12/site-packages/sklearn/metrics/_classification.py:1565: UndefinedMetricWarning: Precision is ill-defined and being set to 0.0 in labels with no predicted samples. Use `zero_division` parameter to control this behavior.\n",
      "  _warn_prf(average, modifier, f\"{metric.capitalize()} is\", len(result))\n",
      "/Users/christophlaute/Data Mining Project/Data-Mining-Project-1/.conda/lib/python3.12/site-packages/sklearn/metrics/_classification.py:1565: UndefinedMetricWarning: Precision is ill-defined and being set to 0.0 in labels with no predicted samples. Use `zero_division` parameter to control this behavior.\n",
      "  _warn_prf(average, modifier, f\"{metric.capitalize()} is\", len(result))\n",
      "/Users/christophlaute/Data Mining Project/Data-Mining-Project-1/.conda/lib/python3.12/site-packages/sklearn/metrics/_classification.py:1565: UndefinedMetricWarning: Precision is ill-defined and being set to 0.0 in labels with no predicted samples. Use `zero_division` parameter to control this behavior.\n",
      "  _warn_prf(average, modifier, f\"{metric.capitalize()} is\", len(result))\n"
     ]
    }
   ],
   "source": [
    "pipe = Pipeline([\n",
    "    (\"preproc\", prep),\n",
    "    (\"clf\", LinearSVC())\n",
    "])\n",
    "\n",
    "pipe.fit(X, y)\n",
    "y_pred = pipe.predict(X_test)\n",
    "\n",
    "print(classification_report(y_test, y_pred))"
   ]
  },
  {
   "cell_type": "code",
   "execution_count": null,
   "id": "445eac76",
   "metadata": {},
   "outputs": [],
   "source": []
  }
 ],
 "metadata": {
  "kernelspec": {
   "display_name": "Python 3",
   "language": "python",
   "name": "python3"
  },
  "language_info": {
   "codemirror_mode": {
    "name": "ipython",
    "version": 3
   },
   "file_extension": ".py",
   "mimetype": "text/x-python",
   "name": "python",
   "nbconvert_exporter": "python",
   "pygments_lexer": "ipython3",
   "version": "3.12.9"
  }
 },
 "nbformat": 4,
 "nbformat_minor": 5
}
