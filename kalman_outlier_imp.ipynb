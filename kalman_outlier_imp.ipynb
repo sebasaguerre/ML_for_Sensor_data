{
 "cells": [
  {
   "cell_type": "markdown",
   "id": "8853d0ee",
   "metadata": {},
   "source": [
    "### Imputation using Kalman Filter"
   ]
  },
  {
   "cell_type": "code",
   "execution_count": null,
   "id": "a6c50941",
   "metadata": {},
   "outputs": [],
   "source": [
    "import pandas as pd\n",
    "import numpy as np\n",
    "from pykalman import KalmanFilter\n",
    "from pandas.api.types import is_numeric_dtype\n"
   ]
  },
  {
   "cell_type": "code",
   "execution_count": 5,
   "id": "54ec56c8",
   "metadata": {},
   "outputs": [],
   "source": [
    "df = pd.read_csv(\"data_int_without_questionnaire.csv\")"
   ]
  },
  {
   "cell_type": "code",
   "execution_count": 6,
   "id": "550fb092",
   "metadata": {},
   "outputs": [
    {
     "name": "stdout",
     "output_type": "stream",
     "text": [
      "Distance (cm)                    float64\n",
      "Illuminance (lx)                 float64\n",
      "amplitude                        float64\n",
      "frequency                        float64\n",
      "Latitude (°)                     float64\n",
      "Longitude (°)                    float64\n",
      "Height (m)                       float64\n",
      "Velocity (m/s)                   float64\n",
      "Direction (°)                    float64\n",
      "Horizontal Accuracy (m)          float64\n",
      "Vertical Accuracy (m)            float64\n",
      "Magnetic field x (µT)            float64\n",
      "Magnetic field y (µT)            float64\n",
      "Magnetic field z (µT)            float64\n",
      "Acceleration x (m/s^2)           float64\n",
      "Acceleration y (m/s^2)           float64\n",
      "Acceleration z (m/s^2)           float64\n",
      "Gyroscope x (rad/s)              float64\n",
      "Gyroscope y (rad/s)              float64\n",
      "Gyroscope z (rad/s)              float64\n",
      "Pressure (hPa)                   float64\n",
      "Linear Acceleration x (m/s^2)    float64\n",
      "Linear Acceleration y (m/s^2)    float64\n",
      "Linear Acceleration z (m/s^2)    float64\n",
      "Common time (s)                  float64\n",
      "Activity                          object\n",
      "dtype: object\n"
     ]
    }
   ],
   "source": [
    "print(df.dtypes)"
   ]
  },
  {
   "cell_type": "code",
   "execution_count": null,
   "id": "3ea57905",
   "metadata": {},
   "outputs": [],
   "source": [
    "def one_d_kalman_filter(df):\n",
    "    \"\"\"basic 1d kalman filterfunction based on the function provided by the professor (sigh)\"\"\"\n",
    "    for column in df.columns:\n",
    "        if not is_numeric_dtype(df[column]):\n",
    "            continue\n",
    "        else:\n",
    "            kf =  KalmanFilter(transition_matrices=[[1]], observation_matrices=[[1]]) #transition and observation matrices for computations\n",
    "            masked_values = np.ma.masked_invalid(df[column].values.astype(np.float32))\n",
    "\n",
    "            kf_params = kf.em(masked_values,n_iter=10) #optimizes Q and R (the noise estimates) and so on of the kalman filter to improve outlier detection and imputation\n",
    "            imputed_data, covariances = kf_params.smooth(masked_values) #applies the filter\n",
    "            df[column] = imputed_data\n",
    "    return df\n",
    "\n",
    "\n",
    "        "
   ]
  },
  {
   "cell_type": "code",
   "execution_count": null,
   "id": "69a90d12",
   "metadata": {},
   "outputs": [],
   "source": [
    "def multivariate_kalman_filter(df):\n",
    "    \"\"\"updates function from professor to multivariate kalman filter\"\"\"\n",
    "    columns_to_impute = [column for column in df.columns if  is_numeric_dtype(df[column])]\n",
    "    kf =KalmanFilter(\n",
    "        transition_matrices = np.eye(len(columns_to_impute)), #initialize transition matrix to just next state\n",
    "        observation_matrices = np.eye(len(columns_to_impute)), #initialize observation matrix to just next state\n",
    "        transition_covariance =np.eye(len(columns_to_impute))*0.5, #initialize Q to moderate uncertainty about transition model\n",
    "        observation_covariance=np.eye(len(columns_to_impute)) *0.5)#initialize R to moderate uncertainty about measurements \n",
    "    \n",
    "    masked_df = np.ma.masked_invalid(df[columns_to_impute].values.astype(np.float32))\n",
    "    kf_params = kf.em(masked_df,n_iter=5) #optimizes Q and R (the noise estimates) and so on of the kalman filter to improve outlier detection and imputation\n",
    "    imputed_data, covariances = kf_params.smooth(masked_df) #applies the filter\n",
    "    for i, column in enumerate(columns_to_impute):\n",
    "        df[column] = imputed_data[:,i]\n",
    "    return df\n",
    "        "
   ]
  }
 ],
 "metadata": {
  "kernelspec": {
   "display_name": "Python 3",
   "language": "python",
   "name": "python3"
  },
  "language_info": {
   "codemirror_mode": {
    "name": "ipython",
    "version": 3
   },
   "file_extension": ".py",
   "mimetype": "text/x-python",
   "name": "python",
   "nbconvert_exporter": "python",
   "pygments_lexer": "ipython3",
   "version": "3.12.9"
  }
 },
 "nbformat": 4,
 "nbformat_minor": 5
}
