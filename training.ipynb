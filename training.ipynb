{
 "cells": [
  {
   "cell_type": "code",
   "execution_count": 111,
   "id": "ccb9a138",
   "metadata": {},
   "outputs": [],
   "source": [
    "# imports\n",
    "import pandas as pd\n",
    "from sklearn.preprocessing import StandardScaler\n",
    "import lightgbm as lgb\n",
    "from sklearn.compose import ColumnTransformer\n",
    "from sklearn.pipeline import Pipeline\n",
    "from sklearn.metrics import classification_report\n",
    "from sklearn.preprocessing import OneHotEncoder\n",
    "from sklearn.preprocessing import LabelEncoder\n"
   ]
  },
  {
   "cell_type": "code",
   "execution_count": 112,
   "id": "e567e76d",
   "metadata": {},
   "outputs": [],
   "source": [
    "df = pd.read_csv(\"final_train_data.csv\")\n",
    "df = df.astype({col: 'category' for col in df.select_dtypes(include='object').columns})"
   ]
  },
  {
   "cell_type": "code",
   "execution_count": 113,
   "id": "e50f7395",
   "metadata": {},
   "outputs": [
    {
     "data": {
      "text/plain": [
       "Distance (cm)                     float64\n",
       "Illuminance (lx)                  float64\n",
       "amplitude                         float64\n",
       "frequency                         float64\n",
       "Magnetic field x (µT)             float64\n",
       "Magnetic field y (µT)             float64\n",
       "Magnetic field z (µT)             float64\n",
       "Acceleration x (m/s^2)            float64\n",
       "Acceleration y (m/s^2)            float64\n",
       "Acceleration z (m/s^2)            float64\n",
       "Gyroscope x (rad/s)               float64\n",
       "Gyroscope y (rad/s)               float64\n",
       "Gyroscope z (rad/s)               float64\n",
       "Pressure (hPa)                    float64\n",
       "Linear Acceleration x (m/s^2)     float64\n",
       "Linear Acceleration y (m/s^2)     float64\n",
       "Linear Acceleration z (m/s^2)     float64\n",
       "Common time (s)                   float64\n",
       "Activity                         category\n",
       "Mood                                int64\n",
       "Arousal                             int64\n",
       "Social engagement                   int64\n",
       "Noise Level                         int64\n",
       "Concentration Level                 int64\n",
       "dtype: object"
      ]
     },
     "execution_count": 113,
     "metadata": {},
     "output_type": "execute_result"
    }
   ],
   "source": [
    "df.dtypes"
   ]
  },
  {
   "cell_type": "markdown",
   "id": "5c785c55",
   "metadata": {},
   "source": [
    "### Train, val, test split"
   ]
  },
  {
   "cell_type": "code",
   "execution_count": 114,
   "id": "0b6f3897",
   "metadata": {},
   "outputs": [],
   "source": [
    "y = df[\"Activity\"]\n",
    "X = df.drop([\"Activity\"],axis=1)\n",
    "le = LabelEncoder()\n",
    "y = le.fit_transform(y)\n",
    "\n"
   ]
  },
  {
   "cell_type": "code",
   "execution_count": 115,
   "id": "9089c9c1",
   "metadata": {},
   "outputs": [],
   "source": [
    "val_df = pd.read_csv(\"val_data.csv\")\n",
    "val_df = val_df.astype({col: 'category' for col in val_df.select_dtypes(include='object').columns})\n",
    "y_val = val_df[\"Activity\"]\n",
    "X_val = val_df.drop([\"Activity\"],axis=1)\n",
    "y_val = le.transform(val_df[\"Activity\"])\n",
    "\n"
   ]
  },
  {
   "cell_type": "code",
   "execution_count": 116,
   "id": "4384c827",
   "metadata": {},
   "outputs": [],
   "source": [
    "test_df = pd.read_csv(\"test_data.csv\")\n",
    "test_df = test_df.astype({col: 'category' for col in test_df.select_dtypes(include='object').columns})\n",
    "y_test = test_df[\"Activity\"]\n",
    "X_test = test_df.drop([\"Activity\"],axis=1)\n",
    "y_test = le.transform(test_df[\"Activity\"])\n"
   ]
  },
  {
   "cell_type": "code",
   "execution_count": 117,
   "id": "088e05b7",
   "metadata": {},
   "outputs": [
    {
     "data": {
      "text/plain": [
       "Distance (cm)                     float64\n",
       "Illuminance (lx)                  float64\n",
       "amplitude                         float64\n",
       "frequency                         float64\n",
       "Magnetic field x (µT)             float64\n",
       "Magnetic field y (µT)             float64\n",
       "Magnetic field z (µT)             float64\n",
       "Acceleration x (m/s^2)            float64\n",
       "Acceleration y (m/s^2)            float64\n",
       "Acceleration z (m/s^2)            float64\n",
       "Gyroscope x (rad/s)               float64\n",
       "Gyroscope y (rad/s)               float64\n",
       "Gyroscope z (rad/s)               float64\n",
       "Pressure (hPa)                    float64\n",
       "Linear Acceleration x (m/s^2)     float64\n",
       "Linear Acceleration y (m/s^2)     float64\n",
       "Linear Acceleration z (m/s^2)     float64\n",
       "Common time (s)                   float64\n",
       "Activity                         category\n",
       "Mood                                int64\n",
       "Arousal                             int64\n",
       "Social engagement                   int64\n",
       "Noise Level                         int64\n",
       "Concentration Level                 int64\n",
       "dtype: object"
      ]
     },
     "execution_count": 117,
     "metadata": {},
     "output_type": "execute_result"
    }
   ],
   "source": [
    "test_df.dtypes\n"
   ]
  },
  {
   "cell_type": "code",
   "execution_count": 118,
   "id": "197b65f0",
   "metadata": {},
   "outputs": [],
   "source": [
    "\n",
    "num_features  = X.select_dtypes(include =\"number\").columns\n",
    "cat_features = X.select_dtypes(include = \"category\").columns\n",
    "prep = ColumnTransformer([(\"num\",StandardScaler(),num_features), (\"cat\",OneHotEncoder(handle_unknown=\"ignore\"),cat_features)])\n"
   ]
  },
  {
   "cell_type": "code",
   "execution_count": 119,
   "id": "9d165549",
   "metadata": {},
   "outputs": [
    {
     "name": "stdout",
     "output_type": "stream",
     "text": [
      "[LightGBM] [Info] Auto-choosing row-wise multi-threading, the overhead of testing was 0.007278 seconds.\n",
      "You can set `force_row_wise=true` to remove the overhead.\n",
      "And if memory is not enough, you can set `force_col_wise=true`.\n",
      "[LightGBM] [Info] Total Bins 4609\n",
      "[LightGBM] [Info] Number of data points in the train set: 416297, number of used features: 23\n",
      "[LightGBM] [Info] Start training from score -1.924220\n",
      "[LightGBM] [Info] Start training from score -1.931188\n",
      "[LightGBM] [Info] Start training from score -1.764138\n",
      "[LightGBM] [Info] Start training from score -1.829352\n",
      "[LightGBM] [Info] Start training from score -1.742763\n",
      "[LightGBM] [Info] Start training from score -1.598762\n"
     ]
    },
    {
     "name": "stderr",
     "output_type": "stream",
     "text": [
      "/Users/christophlaute/Data Mining Project/Data-Mining-Project-1/.conda/lib/python3.12/site-packages/sklearn/utils/validation.py:2739: UserWarning: X does not have valid feature names, but LGBMClassifier was fitted with feature names\n",
      "  warnings.warn(\n"
     ]
    },
    {
     "name": "stdout",
     "output_type": "stream",
     "text": [
      "              precision    recall  f1-score   support\n",
      "\n",
      "           0       0.00      0.00      0.00     31092\n",
      "           1       0.31      0.87      0.46     18922\n",
      "           2       0.00      0.00      0.00     34191\n",
      "           3       0.00      0.00      0.00     35422\n",
      "           4       0.15      0.31      0.20     26557\n",
      "           5       0.18      0.19      0.18     40283\n",
      "\n",
      "    accuracy                           0.17    186467\n",
      "   macro avg       0.11      0.23      0.14    186467\n",
      "weighted avg       0.09      0.17      0.11    186467\n",
      "\n"
     ]
    },
    {
     "name": "stderr",
     "output_type": "stream",
     "text": [
      "/Users/christophlaute/Data Mining Project/Data-Mining-Project-1/.conda/lib/python3.12/site-packages/sklearn/metrics/_classification.py:1565: UndefinedMetricWarning: Precision is ill-defined and being set to 0.0 in labels with no predicted samples. Use `zero_division` parameter to control this behavior.\n",
      "  _warn_prf(average, modifier, f\"{metric.capitalize()} is\", len(result))\n",
      "/Users/christophlaute/Data Mining Project/Data-Mining-Project-1/.conda/lib/python3.12/site-packages/sklearn/metrics/_classification.py:1565: UndefinedMetricWarning: Precision is ill-defined and being set to 0.0 in labels with no predicted samples. Use `zero_division` parameter to control this behavior.\n",
      "  _warn_prf(average, modifier, f\"{metric.capitalize()} is\", len(result))\n",
      "/Users/christophlaute/Data Mining Project/Data-Mining-Project-1/.conda/lib/python3.12/site-packages/sklearn/metrics/_classification.py:1565: UndefinedMetricWarning: Precision is ill-defined and being set to 0.0 in labels with no predicted samples. Use `zero_division` parameter to control this behavior.\n",
      "  _warn_prf(average, modifier, f\"{metric.capitalize()} is\", len(result))\n"
     ]
    }
   ],
   "source": [
    "pipe = Pipeline([(\"preproc\",prep),(\"clf\",lgb.LGBMClassifier(objective='multiclass', num_class=6,random_state=30))])\n",
    "pipe.fit(X,y)\n",
    "y_pred =pipe.predict(X_test)     \n",
    "print(classification_report(y_test,y_pred)) "
   ]
  },
  {
   "cell_type": "code",
   "execution_count": 121,
   "id": "207f10ff",
   "metadata": {},
   "outputs": [
    {
     "name": "stdout",
     "output_type": "stream",
     "text": [
      "Train classes: ['rest', 'walk', 'phone', 'stairs', 'socialize', 'study']\n",
      "Categories (6, object): ['phone', 'rest', 'socialize', 'stairs', 'study', 'walk']\n",
      "Val classes: ['socialize', 'walk', 'stairs', 'phone', 'rest', 'study']\n",
      "Categories (6, object): ['phone', 'rest', 'socialize', 'stairs', 'study', 'walk']\n"
     ]
    }
   ],
   "source": [
    "print(\"Train classes:\", df[\"Activity\"].unique())\n",
    "print(\"Val classes:\", val_df[\"Activity\"].unique())\n",
    "\n"
   ]
  },
  {
   "cell_type": "code",
   "execution_count": null,
   "id": "b874f3dc",
   "metadata": {},
   "outputs": [],
   "source": []
  }
 ],
 "metadata": {
  "kernelspec": {
   "display_name": "Python 3",
   "language": "python",
   "name": "python3"
  },
  "language_info": {
   "codemirror_mode": {
    "name": "ipython",
    "version": 3
   },
   "file_extension": ".py",
   "mimetype": "text/x-python",
   "name": "python",
   "nbconvert_exporter": "python",
   "pygments_lexer": "ipython3",
   "version": "3.12.9"
  }
 },
 "nbformat": 4,
 "nbformat_minor": 5
}
