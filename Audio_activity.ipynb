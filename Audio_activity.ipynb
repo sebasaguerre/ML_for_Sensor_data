{
 "cells": [
  {
   "cell_type": "code",
   "execution_count": 2,
   "id": "2d646e37",
   "metadata": {},
   "outputs": [
    {
     "name": "stdout",
     "output_type": "stream",
     "text": [
      "Collecting librosa\n",
      "  Using cached librosa-0.11.0-py3-none-any.whl.metadata (8.7 kB)\n",
      "Collecting audioread>=2.1.9 (from librosa)\n",
      "  Using cached audioread-3.0.1-py3-none-any.whl.metadata (8.4 kB)\n",
      "Requirement already satisfied: numba>=0.51.0 in /Users/christophlaute/Data Mining Project/Data-Mining-Project-1/.conda/lib/python3.12/site-packages (from librosa) (0.61.2)\n",
      "Requirement already satisfied: numpy>=1.22.3 in /Users/christophlaute/Data Mining Project/Data-Mining-Project-1/.conda/lib/python3.12/site-packages (from librosa) (2.2.4)\n",
      "Requirement already satisfied: scipy>=1.6.0 in /Users/christophlaute/Data Mining Project/Data-Mining-Project-1/.conda/lib/python3.12/site-packages (from librosa) (1.15.2)\n",
      "Requirement already satisfied: scikit-learn>=1.1.0 in /Users/christophlaute/Data Mining Project/Data-Mining-Project-1/.conda/lib/python3.12/site-packages (from librosa) (1.6.1)\n",
      "Requirement already satisfied: joblib>=1.0 in /Users/christophlaute/Data Mining Project/Data-Mining-Project-1/.conda/lib/python3.12/site-packages (from librosa) (1.4.2)\n",
      "Requirement already satisfied: decorator>=4.3.0 in /Users/christophlaute/Data Mining Project/Data-Mining-Project-1/.conda/lib/python3.12/site-packages (from librosa) (5.1.1)\n",
      "Collecting soundfile>=0.12.1 (from librosa)\n",
      "  Using cached soundfile-0.13.1-py2.py3-none-macosx_11_0_arm64.whl.metadata (16 kB)\n",
      "Collecting pooch>=1.1 (from librosa)\n",
      "  Downloading pooch-1.8.2-py3-none-any.whl.metadata (10 kB)\n",
      "Collecting soxr>=0.3.2 (from librosa)\n",
      "  Downloading soxr-0.5.0.post1-cp312-abi3-macosx_11_0_arm64.whl.metadata (5.6 kB)\n",
      "Requirement already satisfied: typing_extensions>=4.1.1 in /Users/christophlaute/Data Mining Project/Data-Mining-Project-1/.conda/lib/python3.12/site-packages (from librosa) (4.13.2)\n",
      "Collecting lazy_loader>=0.1 (from librosa)\n",
      "  Downloading lazy_loader-0.4-py3-none-any.whl.metadata (7.6 kB)\n",
      "Collecting msgpack>=1.0 (from librosa)\n",
      "  Downloading msgpack-1.1.0-cp312-cp312-macosx_11_0_arm64.whl.metadata (8.4 kB)\n",
      "Requirement already satisfied: packaging in /Users/christophlaute/Data Mining Project/Data-Mining-Project-1/.conda/lib/python3.12/site-packages (from lazy_loader>=0.1->librosa) (24.2)\n",
      "Requirement already satisfied: llvmlite<0.45,>=0.44.0dev0 in /Users/christophlaute/Data Mining Project/Data-Mining-Project-1/.conda/lib/python3.12/site-packages (from numba>=0.51.0->librosa) (0.44.0)\n",
      "Requirement already satisfied: platformdirs>=2.5.0 in /Users/christophlaute/Data Mining Project/Data-Mining-Project-1/.conda/lib/python3.12/site-packages (from pooch>=1.1->librosa) (4.3.7)\n",
      "Requirement already satisfied: requests>=2.19.0 in /Users/christophlaute/Data Mining Project/Data-Mining-Project-1/.conda/lib/python3.12/site-packages (from pooch>=1.1->librosa) (2.32.3)\n",
      "Requirement already satisfied: threadpoolctl>=3.1.0 in /Users/christophlaute/Data Mining Project/Data-Mining-Project-1/.conda/lib/python3.12/site-packages (from scikit-learn>=1.1.0->librosa) (3.6.0)\n",
      "Requirement already satisfied: cffi>=1.0 in /Users/christophlaute/Data Mining Project/Data-Mining-Project-1/.conda/lib/python3.12/site-packages (from soundfile>=0.12.1->librosa) (1.17.1)\n",
      "Requirement already satisfied: pycparser in /Users/christophlaute/Data Mining Project/Data-Mining-Project-1/.conda/lib/python3.12/site-packages (from cffi>=1.0->soundfile>=0.12.1->librosa) (2.22)\n",
      "Requirement already satisfied: charset-normalizer<4,>=2 in /Users/christophlaute/Data Mining Project/Data-Mining-Project-1/.conda/lib/python3.12/site-packages (from requests>=2.19.0->pooch>=1.1->librosa) (3.4.1)\n",
      "Requirement already satisfied: idna<4,>=2.5 in /Users/christophlaute/Data Mining Project/Data-Mining-Project-1/.conda/lib/python3.12/site-packages (from requests>=2.19.0->pooch>=1.1->librosa) (3.10)\n",
      "Requirement already satisfied: urllib3<3,>=1.21.1 in /Users/christophlaute/Data Mining Project/Data-Mining-Project-1/.conda/lib/python3.12/site-packages (from requests>=2.19.0->pooch>=1.1->librosa) (2.4.0)\n",
      "Requirement already satisfied: certifi>=2017.4.17 in /Users/christophlaute/Data Mining Project/Data-Mining-Project-1/.conda/lib/python3.12/site-packages (from requests>=2.19.0->pooch>=1.1->librosa) (2025.1.31)\n",
      "Using cached librosa-0.11.0-py3-none-any.whl (260 kB)\n",
      "Using cached audioread-3.0.1-py3-none-any.whl (23 kB)\n",
      "Downloading lazy_loader-0.4-py3-none-any.whl (12 kB)\n",
      "Downloading msgpack-1.1.0-cp312-cp312-macosx_11_0_arm64.whl (82 kB)\n",
      "Downloading pooch-1.8.2-py3-none-any.whl (64 kB)\n",
      "Using cached soundfile-0.13.1-py2.py3-none-macosx_11_0_arm64.whl (1.1 MB)\n",
      "Downloading soxr-0.5.0.post1-cp312-abi3-macosx_11_0_arm64.whl (156 kB)\n",
      "Installing collected packages: soxr, msgpack, lazy_loader, audioread, soundfile, pooch, librosa\n",
      "Successfully installed audioread-3.0.1 lazy_loader-0.4 librosa-0.11.0 msgpack-1.1.0 pooch-1.8.2 soundfile-0.13.1 soxr-0.5.0.post1\n"
     ]
    }
   ],
   "source": [
    "!pip install librosa"
   ]
  },
  {
   "cell_type": "markdown",
   "id": "03666db6",
   "metadata": {},
   "source": [
    "### extract amplitude and frequency"
   ]
  },
  {
   "cell_type": "code",
   "execution_count": 33,
   "id": "7e5ab524",
   "metadata": {},
   "outputs": [],
   "source": [
    "import librosa as lb\n",
    "import numpy as np\n",
    "import pandas as pd\n",
    "import zipfile as zf"
   ]
  },
  {
   "cell_type": "code",
   "execution_count": 34,
   "id": "484c8bc8",
   "metadata": {},
   "outputs": [],
   "source": [
    "y,sr =lb.load(\"audio.wav\",sr=None)"
   ]
  },
  {
   "cell_type": "code",
   "execution_count": 35,
   "id": "98236a87",
   "metadata": {},
   "outputs": [],
   "source": [
    "fft_window_size = 1024 #controles the window size of the fft; higher== better frequency resolution but worse time resolution\n",
    "window_step_size = 512   # controls the step size between windows higher == better time resolution but more overlap\n",
    "D = lb.stft(y, n_fft=fft_window_size, hop_length=window_step_size) #creates stft matrix that has frequencies as rows, time-frames as columns \n",
    "                                                                    #and complex values containing amplitude and phase as values\n"
   ]
  },
  {
   "cell_type": "code",
   "execution_count": 36,
   "id": "24026d7e",
   "metadata": {},
   "outputs": [],
   "source": [
    "magnitude = np.abs(D)               #transforms complex values into magnitude (how much energy a frequency contributes) \n",
    "                                    #like amplitude but in frequency domain\n",
    "frequencies = lb.fft_frequencies(sr=sr,n_fft=fft_window_size) #maps indices in fft matrix to real frequencies\n"
   ]
  },
  {
   "cell_type": "code",
   "execution_count": 37,
   "id": "e9b318ff",
   "metadata": {},
   "outputs": [],
   "source": [
    "dominant_freq_ind = np.argmax(magnitude,axis =0) #finds frequencies with highest magnitude\n",
    "dominant_freqs = frequencies[dominant_freq_ind] #maps itto real frequencies\n",
    "dominant_mags = []\n",
    "for i in range(magnitude.shape[1]):\n",
    "    highest = dominant_freq_ind[i]\n",
    "    dominant_mags.append(magnitude[highest,i]) #collects the amplitudes per time\n",
    "\n",
    "time = lb.frames_to_time(np.arange(magnitude.shape[1]),sr=sr,hop_length=window_step_size) #turns ghe time steps to real time\n",
    "\n"
   ]
  },
  {
   "cell_type": "code",
   "execution_count": 38,
   "id": "f5f9dcd2",
   "metadata": {},
   "outputs": [],
   "source": [
    "audio_df = pd.DataFrame({\"Common time (s)\":time,\"amplitude\":dominant_mags,\"frequency\":dominant_freqs})"
   ]
  },
  {
   "cell_type": "code",
   "execution_count": 39,
   "id": "029805eb",
   "metadata": {},
   "outputs": [
    {
     "data": {
      "text/html": [
       "<div>\n",
       "<style scoped>\n",
       "    .dataframe tbody tr th:only-of-type {\n",
       "        vertical-align: middle;\n",
       "    }\n",
       "\n",
       "    .dataframe tbody tr th {\n",
       "        vertical-align: top;\n",
       "    }\n",
       "\n",
       "    .dataframe thead th {\n",
       "        text-align: right;\n",
       "    }\n",
       "</style>\n",
       "<table border=\"1\" class=\"dataframe\">\n",
       "  <thead>\n",
       "    <tr style=\"text-align: right;\">\n",
       "      <th></th>\n",
       "      <th>Common time (s)</th>\n",
       "      <th>amplitude</th>\n",
       "      <th>frequency</th>\n",
       "    </tr>\n",
       "  </thead>\n",
       "  <tbody>\n",
       "    <tr>\n",
       "      <th>0</th>\n",
       "      <td>0.000000</td>\n",
       "      <td>0.003599</td>\n",
       "      <td>0.00</td>\n",
       "    </tr>\n",
       "    <tr>\n",
       "      <th>1</th>\n",
       "      <td>0.010667</td>\n",
       "      <td>0.007781</td>\n",
       "      <td>0.00</td>\n",
       "    </tr>\n",
       "    <tr>\n",
       "      <th>2</th>\n",
       "      <td>0.021333</td>\n",
       "      <td>0.007627</td>\n",
       "      <td>0.00</td>\n",
       "    </tr>\n",
       "    <tr>\n",
       "      <th>3</th>\n",
       "      <td>0.032000</td>\n",
       "      <td>0.007721</td>\n",
       "      <td>0.00</td>\n",
       "    </tr>\n",
       "    <tr>\n",
       "      <th>4</th>\n",
       "      <td>0.042667</td>\n",
       "      <td>0.007866</td>\n",
       "      <td>0.00</td>\n",
       "    </tr>\n",
       "    <tr>\n",
       "      <th>...</th>\n",
       "      <td>...</td>\n",
       "      <td>...</td>\n",
       "      <td>...</td>\n",
       "    </tr>\n",
       "    <tr>\n",
       "      <th>96536</th>\n",
       "      <td>1029.717333</td>\n",
       "      <td>13.428600</td>\n",
       "      <td>281.25</td>\n",
       "    </tr>\n",
       "    <tr>\n",
       "      <th>96537</th>\n",
       "      <td>1029.728000</td>\n",
       "      <td>5.286401</td>\n",
       "      <td>187.50</td>\n",
       "    </tr>\n",
       "    <tr>\n",
       "      <th>96538</th>\n",
       "      <td>1029.738667</td>\n",
       "      <td>4.206217</td>\n",
       "      <td>187.50</td>\n",
       "    </tr>\n",
       "    <tr>\n",
       "      <th>96539</th>\n",
       "      <td>1029.749333</td>\n",
       "      <td>4.553483</td>\n",
       "      <td>750.00</td>\n",
       "    </tr>\n",
       "    <tr>\n",
       "      <th>96540</th>\n",
       "      <td>1029.760000</td>\n",
       "      <td>3.354277</td>\n",
       "      <td>281.25</td>\n",
       "    </tr>\n",
       "  </tbody>\n",
       "</table>\n",
       "<p>96541 rows × 3 columns</p>\n",
       "</div>"
      ],
      "text/plain": [
       "       Common time (s)  amplitude  frequency\n",
       "0             0.000000   0.003599       0.00\n",
       "1             0.010667   0.007781       0.00\n",
       "2             0.021333   0.007627       0.00\n",
       "3             0.032000   0.007721       0.00\n",
       "4             0.042667   0.007866       0.00\n",
       "...                ...        ...        ...\n",
       "96536      1029.717333  13.428600     281.25\n",
       "96537      1029.728000   5.286401     187.50\n",
       "96538      1029.738667   4.206217     187.50\n",
       "96539      1029.749333   4.553483     750.00\n",
       "96540      1029.760000   3.354277     281.25\n",
       "\n",
       "[96541 rows x 3 columns]"
      ]
     },
     "execution_count": 39,
     "metadata": {},
     "output_type": "execute_result"
    }
   ],
   "source": [
    "audio_df"
   ]
  },
  {
   "cell_type": "code",
   "execution_count": 37,
   "id": "18ee0554",
   "metadata": {},
   "outputs": [],
   "source": [
    "audio_df.to_csv('audio.csv', index=False)\n"
   ]
  },
  {
   "cell_type": "code",
   "execution_count": 50,
   "id": "6f9e4de1",
   "metadata": {},
   "outputs": [],
   "source": [
    "import zipfile\n",
    "\n",
    "# Define the path to the zip file and the file to add\n",
    "zip_path = \"sens_data.zip\"\n",
    "file_to_add = \"audio.csv\"\n",
    "\n",
    "# Open the zip in append mode ('a') and add the file\n",
    "with zipfile.ZipFile(zip_path, 'a') as zipf:\n",
    "    zipf.write(file_to_add, arcname=\"audio.csv\")\n"
   ]
  },
  {
   "cell_type": "markdown",
   "id": "d094285b",
   "metadata": {},
   "source": [
    "### add activity"
   ]
  },
  {
   "cell_type": "code",
   "execution_count": 24,
   "id": "01b1e311",
   "metadata": {},
   "outputs": [],
   "source": [
    "joined_df = pd.read_csv(\"corrected_data.csv\")\n",
    "joined_interpol_df = pd.read_csv(\"corrected_int_data.csv\")"
   ]
  },
  {
   "cell_type": "code",
   "execution_count": 25,
   "id": "4d0a7cbe",
   "metadata": {},
   "outputs": [],
   "source": [
    "times = [75.13,126.05,187.13,264.95,340.38,390.75,466.28,508.69,585.55,640.91,730.51,793.47,834.07,939.69]\n",
    "\n",
    "def add_activities(joined_df):\n",
    "    \"\"\"adds correct activities to times\"\"\"\n",
    "    joined_df.loc[(joined_df[\"Common time (s)\"] > 0) & (joined_df[\"Common time (s)\"] < times[0]), \"Activity\"] = \"rest\"\n",
    "    joined_df.loc[(joined_df[\"Common time (s)\"] > times[0]) & (joined_df[\"Common time (s)\"] < times[1]), \"Activity\"] = \"walk\"\n",
    "    joined_df.loc[(joined_df[\"Common time (s)\"] > times[1]) & (joined_df[\"Common time (s)\"] < times[2]), \"Activity\"] = \"phone\"\n",
    "    joined_df.loc[(joined_df[\"Common time (s)\"] > times[2]) & (joined_df[\"Common time (s)\"] < times[3]), \"Activity\"] = \"stairs\"\n",
    "    joined_df.loc[(joined_df[\"Common time (s)\"] > times[3]) & (joined_df[\"Common time (s)\"] < times[4]), \"Activity\"] = \"rest\"\n",
    "    joined_df.loc[(joined_df[\"Common time (s)\"] > times[4]) & (joined_df[\"Common time (s)\"] < times[5]), \"Activity\"] = \"phone\"\n",
    "    joined_df.loc[(joined_df[\"Common time (s)\"] > times[5]) & (joined_df[\"Common time (s)\"] < times[6]), \"Activity\"] = \"socialize\"\n",
    "    joined_df.loc[(joined_df[\"Common time (s)\"] > times[6]) & (joined_df[\"Common time (s)\"] < times[7]), \"Activity\"] = \"walk\"\n",
    "    joined_df.loc[(joined_df[\"Common time (s)\"] > times[7]) & (joined_df[\"Common time (s)\"] < times[8]), \"Activity\"] = \"study\"\n",
    "    joined_df.loc[(joined_df[\"Common time (s)\"] > times[8]) & (joined_df[\"Common time (s)\"] < times[9]), \"Activity\"] = \"walk\"\n",
    "    joined_df.loc[(joined_df[\"Common time (s)\"] > times[9]) & (joined_df[\"Common time (s)\"] < times[10]), \"Activity\"] = \"stairs\"\n",
    "    joined_df.loc[(joined_df[\"Common time (s)\"] > times[10]) & (joined_df[\"Common time (s)\"] < times[11]), \"Activity\"] = \"walk\"\n",
    "    joined_df.loc[(joined_df[\"Common time (s)\"] > times[11]) & (joined_df[\"Common time (s)\"] < times[12]), \"Activity\"] = \"phone\"\n",
    "    joined_df.loc[(joined_df[\"Common time (s)\"] > times[12]) & (joined_df[\"Common time (s)\"] < times[13]), \"Activity\"] = \"study\"\n",
    "    joined_df.loc[joined_df[\"Common time (s)\"] > times[13], \"Activity\"] = \"socialize\"\n",
    "    return joined_df\n",
    "\n",
    "joined_df=add_activities(joined_df)\n",
    "joined_interpol_df=add_activities(joined_interpol_df)"
   ]
  },
  {
   "cell_type": "code",
   "execution_count": 26,
   "id": "fa9cf3ee",
   "metadata": {},
   "outputs": [
    {
     "data": {
      "text/plain": [
       "Distance (cm)                         0\n",
       "Illuminance (lx)                      0\n",
       "amplitude                             0\n",
       "frequency                             0\n",
       "Latitude (°)                          0\n",
       "Longitude (°)                         0\n",
       "Height (m)                        16103\n",
       "Velocity (m/s)                   416297\n",
       "Direction (°)                    416297\n",
       "Horizontal Accuracy (m)               0\n",
       "Vertical Accuracy (m)                 0\n",
       "Magnetic field x (µT)                 0\n",
       "Magnetic field y (µT)                 0\n",
       "Magnetic field z (µT)                 0\n",
       "Acceleration x (m/s^2)                0\n",
       "Acceleration y (m/s^2)                0\n",
       "Acceleration z (m/s^2)                0\n",
       "Gyroscope x (rad/s)                   0\n",
       "Gyroscope y (rad/s)                   0\n",
       "Gyroscope z (rad/s)                   0\n",
       "Pressure (hPa)                        0\n",
       "Linear Acceleration x (m/s^2)         0\n",
       "Linear Acceleration y (m/s^2)         0\n",
       "Linear Acceleration z (m/s^2)         0\n",
       "Common time (s)                       0\n",
       "Activity                              0\n",
       "dtype: int64"
      ]
     },
     "execution_count": 26,
     "metadata": {},
     "output_type": "execute_result"
    }
   ],
   "source": [
    "joined_interpol_df.isna().sum()"
   ]
  },
  {
   "cell_type": "code",
   "execution_count": 27,
   "id": "9fc5544e",
   "metadata": {},
   "outputs": [],
   "source": [
    "joined_interpol_df.to_csv(\"data_int_without_questionnaire.csv\", index=False)\n",
    "joined_df.to_csv(\"data_without_questionnaire.csv\",index = False)"
   ]
  },
  {
   "cell_type": "code",
   "execution_count": 28,
   "id": "4253a2f4",
   "metadata": {},
   "outputs": [
    {
     "data": {
      "text/plain": [
       "Distance (cm)                         0\n",
       "Illuminance (lx)                      0\n",
       "amplitude                             0\n",
       "frequency                             0\n",
       "Latitude (°)                          0\n",
       "Longitude (°)                         0\n",
       "Height (m)                        16103\n",
       "Velocity (m/s)                   416297\n",
       "Direction (°)                    416297\n",
       "Horizontal Accuracy (m)               0\n",
       "Vertical Accuracy (m)                 0\n",
       "Magnetic field x (µT)                 0\n",
       "Magnetic field y (µT)                 0\n",
       "Magnetic field z (µT)                 0\n",
       "Acceleration x (m/s^2)                0\n",
       "Acceleration y (m/s^2)                0\n",
       "Acceleration z (m/s^2)                0\n",
       "Gyroscope x (rad/s)                   0\n",
       "Gyroscope y (rad/s)                   0\n",
       "Gyroscope z (rad/s)                   0\n",
       "Pressure (hPa)                        0\n",
       "Linear Acceleration x (m/s^2)         0\n",
       "Linear Acceleration y (m/s^2)         0\n",
       "Linear Acceleration z (m/s^2)         0\n",
       "Common time (s)                       0\n",
       "Activity                              0\n",
       "dtype: int64"
      ]
     },
     "execution_count": 28,
     "metadata": {},
     "output_type": "execute_result"
    }
   ],
   "source": [
    "joined_df.isna().sum()"
   ]
  },
  {
   "cell_type": "code",
   "execution_count": 40,
   "id": "822319b5",
   "metadata": {},
   "outputs": [
    {
     "data": {
      "text/html": [
       "<div>\n",
       "<style scoped>\n",
       "    .dataframe tbody tr th:only-of-type {\n",
       "        vertical-align: middle;\n",
       "    }\n",
       "\n",
       "    .dataframe tbody tr th {\n",
       "        vertical-align: top;\n",
       "    }\n",
       "\n",
       "    .dataframe thead th {\n",
       "        text-align: right;\n",
       "    }\n",
       "</style>\n",
       "<table border=\"1\" class=\"dataframe\">\n",
       "  <thead>\n",
       "    <tr style=\"text-align: right;\">\n",
       "      <th></th>\n",
       "      <th>Common time (s)</th>\n",
       "      <th>amplitude</th>\n",
       "      <th>frequency</th>\n",
       "    </tr>\n",
       "  </thead>\n",
       "  <tbody>\n",
       "    <tr>\n",
       "      <th>0</th>\n",
       "      <td>0.000000</td>\n",
       "      <td>0.003599</td>\n",
       "      <td>0.00</td>\n",
       "    </tr>\n",
       "    <tr>\n",
       "      <th>1</th>\n",
       "      <td>0.010667</td>\n",
       "      <td>0.007781</td>\n",
       "      <td>0.00</td>\n",
       "    </tr>\n",
       "    <tr>\n",
       "      <th>2</th>\n",
       "      <td>0.021333</td>\n",
       "      <td>0.007627</td>\n",
       "      <td>0.00</td>\n",
       "    </tr>\n",
       "    <tr>\n",
       "      <th>3</th>\n",
       "      <td>0.032000</td>\n",
       "      <td>0.007721</td>\n",
       "      <td>0.00</td>\n",
       "    </tr>\n",
       "    <tr>\n",
       "      <th>4</th>\n",
       "      <td>0.042667</td>\n",
       "      <td>0.007866</td>\n",
       "      <td>0.00</td>\n",
       "    </tr>\n",
       "    <tr>\n",
       "      <th>...</th>\n",
       "      <td>...</td>\n",
       "      <td>...</td>\n",
       "      <td>...</td>\n",
       "    </tr>\n",
       "    <tr>\n",
       "      <th>96536</th>\n",
       "      <td>1029.717333</td>\n",
       "      <td>13.428600</td>\n",
       "      <td>281.25</td>\n",
       "    </tr>\n",
       "    <tr>\n",
       "      <th>96537</th>\n",
       "      <td>1029.728000</td>\n",
       "      <td>5.286401</td>\n",
       "      <td>187.50</td>\n",
       "    </tr>\n",
       "    <tr>\n",
       "      <th>96538</th>\n",
       "      <td>1029.738667</td>\n",
       "      <td>4.206217</td>\n",
       "      <td>187.50</td>\n",
       "    </tr>\n",
       "    <tr>\n",
       "      <th>96539</th>\n",
       "      <td>1029.749333</td>\n",
       "      <td>4.553483</td>\n",
       "      <td>750.00</td>\n",
       "    </tr>\n",
       "    <tr>\n",
       "      <th>96540</th>\n",
       "      <td>1029.760000</td>\n",
       "      <td>3.354277</td>\n",
       "      <td>281.25</td>\n",
       "    </tr>\n",
       "  </tbody>\n",
       "</table>\n",
       "<p>96541 rows × 3 columns</p>\n",
       "</div>"
      ],
      "text/plain": [
       "       Common time (s)  amplitude  frequency\n",
       "0             0.000000   0.003599       0.00\n",
       "1             0.010667   0.007781       0.00\n",
       "2             0.021333   0.007627       0.00\n",
       "3             0.032000   0.007721       0.00\n",
       "4             0.042667   0.007866       0.00\n",
       "...                ...        ...        ...\n",
       "96536      1029.717333  13.428600     281.25\n",
       "96537      1029.728000   5.286401     187.50\n",
       "96538      1029.738667   4.206217     187.50\n",
       "96539      1029.749333   4.553483     750.00\n",
       "96540      1029.760000   3.354277     281.25\n",
       "\n",
       "[96541 rows x 3 columns]"
      ]
     },
     "execution_count": 40,
     "metadata": {},
     "output_type": "execute_result"
    }
   ],
   "source": [
    "accel = pd.read_csv(\"Accelerometer.csv\")\n",
    "audio_df"
   ]
  },
  {
   "cell_type": "code",
   "execution_count": 42,
   "id": "da54fba1",
   "metadata": {},
   "outputs": [],
   "source": [
    "max_time_audio = max(audio_df[\"Common time (s)\"])\n",
    "max_time_accel = max(accel[\"Time (s)\"])"
   ]
  },
  {
   "cell_type": "code",
   "execution_count": 43,
   "id": "71cde300",
   "metadata": {},
   "outputs": [
    {
     "name": "stdout",
     "output_type": "stream",
     "text": [
      "1035.036735\n"
     ]
    }
   ],
   "source": [
    "print(max_time_accel)\n"
   ]
  },
  {
   "cell_type": "code",
   "execution_count": 44,
   "id": "e3e2b41b",
   "metadata": {},
   "outputs": [
    {
     "name": "stdout",
     "output_type": "stream",
     "text": [
      "1029.76\n"
     ]
    }
   ],
   "source": [
    "print(max_time_audio)"
   ]
  },
  {
   "cell_type": "code",
   "execution_count": 46,
   "id": "6e4b8b62",
   "metadata": {},
   "outputs": [
    {
     "name": "stdout",
     "output_type": "stream",
     "text": [
      "1035.0367447945218\n"
     ]
    }
   ],
   "source": [
    "print(max(joined_interpol_df[\"Common time (s)\"]))"
   ]
  },
  {
   "cell_type": "code",
   "execution_count": 50,
   "id": "e641ec29",
   "metadata": {},
   "outputs": [
    {
     "name": "stdout",
     "output_type": "stream",
     "text": [
      "        Distance (cm)  Illuminance (lx)  amplitude  frequency  Latitude (°)  \\\n",
      "416292            5.0        141.077499   3.354277     281.25     52.334468   \n",
      "416293            5.0        141.077499   3.354277     281.25     52.334468   \n",
      "416294            5.0        141.077499   3.354277     281.25     52.334468   \n",
      "416295            5.0        141.077499   3.354277     281.25     52.334468   \n",
      "416296            5.0        141.077499   3.354277     281.25     52.334468   \n",
      "\n",
      "        Longitude (°)  Height (m)  Velocity (m/s)  Direction (°)  \\\n",
      "416292       4.866596    2.872287             NaN            NaN   \n",
      "416293       4.866596    2.872287             NaN            NaN   \n",
      "416294       4.866596    2.872287             NaN            NaN   \n",
      "416295       4.866596    2.872287             NaN            NaN   \n",
      "416296       4.866596    2.872287             NaN            NaN   \n",
      "\n",
      "        Horizontal Accuracy (m)  ...  Acceleration z (m/s^2)  \\\n",
      "416292                   14.901  ...                6.226870   \n",
      "416293                   14.901  ...                6.248417   \n",
      "416294                   14.901  ...                6.319121   \n",
      "416295                   14.901  ...                6.454319   \n",
      "416296                   14.901  ...                6.630068   \n",
      "\n",
      "        Gyroscope x (rad/s)  Gyroscope y (rad/s)  Gyroscope z (rad/s)  \\\n",
      "416292            -0.111448             0.190454             0.032608   \n",
      "416293            -0.157030             0.154565             0.037838   \n",
      "416294            -0.202961             0.109733             0.042734   \n",
      "416295            -0.251324             0.056673             0.043600   \n",
      "416296            -0.294141            -0.004963             0.043766   \n",
      "\n",
      "        Pressure (hPa)  Linear Acceleration x (m/s^2)  \\\n",
      "416292     1005.731506                       -0.10424   \n",
      "416293     1005.731506                       -0.10424   \n",
      "416294     1005.731506                       -0.10424   \n",
      "416295     1005.731506                       -0.10424   \n",
      "416296     1005.731506                       -0.10424   \n",
      "\n",
      "        Linear Acceleration y (m/s^2)  Linear Acceleration z (m/s^2)  \\\n",
      "416292                       0.097189                      -0.756839   \n",
      "416293                       0.097189                      -0.756839   \n",
      "416294                       0.097189                      -0.756839   \n",
      "416295                       0.097189                      -0.756839   \n",
      "416296                       0.097189                      -0.756839   \n",
      "\n",
      "        Common time (s)   Activity  \n",
      "416292      1035.026800  socialize  \n",
      "416293      1035.029286  socialize  \n",
      "416294      1035.031772  socialize  \n",
      "416295      1035.034258  socialize  \n",
      "416296      1035.036745  socialize  \n",
      "\n",
      "[5 rows x 26 columns]\n"
     ]
    }
   ],
   "source": [
    "print(joined_interpol_df.tail(5))\n"
   ]
  },
  {
   "cell_type": "code",
   "execution_count": null,
   "id": "7d19a641",
   "metadata": {},
   "outputs": [],
   "source": []
  }
 ],
 "metadata": {
  "kernelspec": {
   "display_name": "Python 3",
   "language": "python",
   "name": "python3"
  },
  "language_info": {
   "codemirror_mode": {
    "name": "ipython",
    "version": 3
   },
   "file_extension": ".py",
   "mimetype": "text/x-python",
   "name": "python",
   "nbconvert_exporter": "python",
   "pygments_lexer": "ipython3",
   "version": "3.12.9"
  }
 },
 "nbformat": 4,
 "nbformat_minor": 5
}
